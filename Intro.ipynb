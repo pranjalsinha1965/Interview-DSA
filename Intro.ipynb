{
 "cells": [
  {
   "cell_type": "markdown",
   "metadata": {},
   "source": [
    "Linked-List"
   ]
  },
  {
   "cell_type": "code",
   "execution_count": 9,
   "metadata": {},
   "outputs": [
    {
     "name": "stdout",
     "output_type": "stream",
     "text": [
      "13\n",
      "15\n",
      "15\n",
      "<__main__.Node object at 0x000001A6FE4079A0>\n",
      "<__main__.Node object at 0x000001A6FE407EE0>\n"
     ]
    }
   ],
   "source": [
    "class Node:\n",
    "    def __init__(self, data):\n",
    "        self.data = data\n",
    "        self.next = None\n",
    "\n",
    "a = Node(13)\n",
    "b = Node(15)  # This is the correct way to initialize a new Node object\n",
    "a.next = b\n",
    "\n",
    "print(a.data)          # Output: 13\n",
    "print(b.data)          # Output: 15\n",
    "print(a.next.data)     # Output: 15 (a.next points to b, so a.next.data is 15)\n",
    "print(a)               # Will print the memory address of the 'a' object\n",
    "print(b)               # Will print the memory address of the 'b' object"
   ]
  },
  {
   "cell_type": "code",
   "execution_count": 10,
   "metadata": {},
   "outputs": [
    {
     "name": "stdout",
     "output_type": "stream",
     "text": [
      "None\n"
     ]
    }
   ],
   "source": [
    "class Node:\n",
    "    def __init__(self, data):\n",
    "        self.data = data\n",
    "        self.next = None\n",
    "\n",
    "def takeInput():\n",
    "    inputList = [int(ele) for ele in input().split()]\n",
    "    head = None\n",
    "    tail = None  # To keep track of the last node\n",
    "    \n",
    "    for currData in inputList:\n",
    "        if currData == -1:\n",
    "            break\n",
    "        newNode = Node(currData)\n",
    "        if head is None:  # If it's the first node\n",
    "            head = newNode\n",
    "            tail = newNode\n",
    "        else:\n",
    "            tail.next = newNode  # Link the new node to the last node\n",
    "            tail = newNode  # Move the tail pointer to the new node\n",
    "    \n",
    "    return head  # Return the head of the linked list\n",
    "\n",
    "def printList(head):\n",
    "    temp = head\n",
    "    while temp is not None:\n",
    "        print(temp.data, end=\" -> \")\n",
    "        temp = temp.next\n",
    "    print(\"None\")\n",
    "\n",
    "# Example usage\n",
    "head = takeInput()\n",
    "printList(head)\n"
   ]
  },
  {
   "cell_type": "code",
   "execution_count": 11,
   "metadata": {},
   "outputs": [],
   "source": [
    "class Node:\n",
    "    def __init__(self, Node):\n",
    "        self.data = Node \n",
    "        self.next = None \n",
    "\n",
    "def takeInput():\n",
    "\n",
    "    inputList = [int(ele) for ele in input().split()]\n",
    "\n",
    "head = takeInput()"
   ]
  },
  {
   "cell_type": "markdown",
   "metadata": {},
   "source": [
    "Array to LinkedList"
   ]
  },
  {
   "cell_type": "code",
   "execution_count": 12,
   "metadata": {},
   "outputs": [],
   "source": [
    "# static Node constructLL(int arr[]){\n",
    "#     Node head = new Node(-1);\n",
    "#     Node temp = head;\n",
    "#     for(var i: arr)\n",
    "#     {\n",
    "#         Node x = new Node(i);\n",
    "#         temp.next = x;\n",
    "#         temp = x;\n",
    "\n",
    "#     }\n",
    "#     head = head.next; \n",
    "#     return head;\n",
    "# }"
   ]
  },
  {
   "cell_type": "code",
   "execution_count": 13,
   "metadata": {},
   "outputs": [],
   "source": [
    "def getCount(self, head): \n",
    "    sum = 0\n",
    "    while head != None: \n",
    "        sum += 1\n",
    "        head = head.next \n",
    "    return sum"
   ]
  },
  {
   "cell_type": "code",
   "execution_count": 14,
   "metadata": {},
   "outputs": [],
   "source": [
    "class Solution: \n",
    "    def constructLL(self, arr):\n",
    "        head = Node(arr[0])\n",
    "        temp = head \n",
    "        for i in range(1, len(arr)):\n",
    "            temp2 = Node(arr[i])\n",
    "            temp.next = temp2 \n",
    "            temp = temp.next\n",
    "        return head "
   ]
  },
  {
   "cell_type": "code",
   "execution_count": 15,
   "metadata": {},
   "outputs": [],
   "source": [
    "class Solution:\n",
    "    def search(self, n, head, key):\n",
    "        while head is not None: \n",
    "            if head is not None: \n",
    "                if head.data == key: \n",
    "                    return True \n",
    "                head = head.next \n",
    "        return False "
   ]
  },
  {
   "cell_type": "code",
   "execution_count": 16,
   "metadata": {},
   "outputs": [],
   "source": [
    "class Solution: \n",
    "    def constructDLL(self, arr): \n",
    "        head = Node(arr[0])\n",
    "        head.prev = None \n",
    "        nn = head \n",
    "        for i in range(1, len(arr)): \n",
    "            nn.next = Node(arr[i])\n",
    "            nn.next.prev = nn\n",
    "        return head "
   ]
  },
  {
   "cell_type": "code",
   "execution_count": 17,
   "metadata": {},
   "outputs": [],
   "source": [
    "class Solution: \n",
    "    def reverseDLL(self, head): \n",
    "        if head is None or head.next is None:\n",
    "            return head \n",
    "        last = None \n",
    "        current = head \n",
    "        while current is not None: \n",
    "            last = current.prev \n",
    "            current.prev = current.next \n",
    "            current.next = last \n",
    "            current = current.prev \n",
    "        return last.prev "
   ]
  },
  {
   "cell_type": "code",
   "execution_count": 18,
   "metadata": {},
   "outputs": [],
   "source": [
    "# Definition for singly-linked list.\n",
    "# Create definition function in python for palindromic LinkedList\n",
    "class ListNode:\n",
    "    def __init__(self, val=0, next=None):\n",
    "        self.val = val\n",
    "        self.next = next\n",
    "class Solution:\n",
    "    def isPalindrome(self, head: [ListNode]) -> bool:\n",
    "        list_vals = []\n",
    "        while head:\n",
    "            list_vals.append(head.val)\n",
    "            head = head.next\n",
    "        \n",
    "        left, right = 0, len(list_vals) - 1\n",
    "        while left < right  and list_vals[left] == list_vals[right]:\n",
    "            left += 1\n",
    "            right -= 1\n",
    "        return left >= right"
   ]
  },
  {
   "cell_type": "code",
   "execution_count": 19,
   "metadata": {},
   "outputs": [],
   "source": [
    "# Definition for singly-linked list.\n",
    "# Question: Given the head of a singly linked list, reverse the list, and return the reversed list.\n",
    "class ListNode:\n",
    "    def __init__(self, val=0, next=None): \n",
    "        self.val = val \n",
    "        self.next = next\n",
    "class Solution:\n",
    "    def reverseList(self, head: ListNode) -> ListNode:\n",
    "        if not head:\n",
    "            return \n",
    "        curr = head\n",
    "        prev = None\n",
    "        while curr:\n",
    "            temp = curr.next\n",
    "            curr.next = prev\n",
    "            prev = curr\n",
    "            curr = temp\n",
    "        return prev\n",
    "        "
   ]
  },
  {
   "cell_type": "code",
   "execution_count": 20,
   "metadata": {},
   "outputs": [],
   "source": [
    "class Solution: \n",
    "    def deleteAllOccurOfX(self, head, x):\n",
    "        h = head \n",
    "        c = h \n",
    "        while c: \n",
    "            if c.data == x: \n",
    "                p = c.prev \n",
    "                n = c.next \n",
    "                if p: \n",
    "                    p.next = n\n",
    "                if n: \n",
    "                    n.prev = p\n",
    "                if c == h: \n",
    "                    h = n \n",
    "                c.next = None \n",
    "                c.prev  = None \n",
    "                c = n \n",
    "            else: \n",
    "                c = c.next \n",
    "        return h"
   ]
  },
  {
   "cell_type": "code",
   "execution_count": 3,
   "metadata": {},
   "outputs": [
    {
     "ename": "NameError",
     "evalue": "name 'Optional' is not defined",
     "output_type": "error",
     "traceback": [
      "\u001b[1;31m---------------------------------------------------------------------------\u001b[0m",
      "\u001b[1;31mNameError\u001b[0m                                 Traceback (most recent call last)",
      "\u001b[1;32m~\\AppData\\Local\\Temp/ipykernel_9416/570596380.py\u001b[0m in \u001b[0;36m<module>\u001b[1;34m\u001b[0m\n\u001b[0;32m      3\u001b[0m         \u001b[0mself\u001b[0m\u001b[1;33m.\u001b[0m\u001b[0mval\u001b[0m \u001b[1;33m=\u001b[0m \u001b[0mval\u001b[0m\u001b[1;33m\u001b[0m\u001b[1;33m\u001b[0m\u001b[0m\n\u001b[0;32m      4\u001b[0m         \u001b[0mself\u001b[0m\u001b[1;33m.\u001b[0m\u001b[0mnext\u001b[0m \u001b[1;33m=\u001b[0m \u001b[0mnext\u001b[0m\u001b[1;33m\u001b[0m\u001b[1;33m\u001b[0m\u001b[0m\n\u001b[1;32m----> 5\u001b[1;33m \u001b[1;32mclass\u001b[0m \u001b[0mSolution\u001b[0m\u001b[1;33m:\u001b[0m\u001b[1;33m\u001b[0m\u001b[1;33m\u001b[0m\u001b[0m\n\u001b[0m\u001b[0;32m      6\u001b[0m     \u001b[1;32mdef\u001b[0m \u001b[0mfindPairsWithGivenSum\u001b[0m\u001b[1;33m(\u001b[0m\u001b[0mself\u001b[0m\u001b[1;33m,\u001b[0m \u001b[0mtarget\u001b[0m \u001b[1;33m:\u001b[0m \u001b[0mint\u001b[0m\u001b[1;33m,\u001b[0m \u001b[0mhead\u001b[0m \u001b[1;33m:\u001b[0m \u001b[0mOptional\u001b[0m\u001b[1;33m[\u001b[0m\u001b[1;34m'Node'\u001b[0m\u001b[1;33m]\u001b[0m\u001b[1;33m)\u001b[0m \u001b[1;33m->\u001b[0m \u001b[0mList\u001b[0m\u001b[1;33m[\u001b[0m\u001b[0mList\u001b[0m\u001b[1;33m[\u001b[0m\u001b[0mint\u001b[0m\u001b[1;33m]\u001b[0m\u001b[1;33m]\u001b[0m\u001b[1;33m:\u001b[0m\u001b[1;33m\u001b[0m\u001b[1;33m\u001b[0m\u001b[0m\n\u001b[0;32m      7\u001b[0m         \u001b[0mtail\u001b[0m \u001b[1;33m=\u001b[0m \u001b[0mhead\u001b[0m\u001b[1;33m\u001b[0m\u001b[1;33m\u001b[0m\u001b[0m\n",
      "\u001b[1;32m~\\AppData\\Local\\Temp/ipykernel_9416/570596380.py\u001b[0m in \u001b[0;36mSolution\u001b[1;34m()\u001b[0m\n\u001b[0;32m      4\u001b[0m         \u001b[0mself\u001b[0m\u001b[1;33m.\u001b[0m\u001b[0mnext\u001b[0m \u001b[1;33m=\u001b[0m \u001b[0mnext\u001b[0m\u001b[1;33m\u001b[0m\u001b[1;33m\u001b[0m\u001b[0m\n\u001b[0;32m      5\u001b[0m \u001b[1;32mclass\u001b[0m \u001b[0mSolution\u001b[0m\u001b[1;33m:\u001b[0m\u001b[1;33m\u001b[0m\u001b[1;33m\u001b[0m\u001b[0m\n\u001b[1;32m----> 6\u001b[1;33m     \u001b[1;32mdef\u001b[0m \u001b[0mfindPairsWithGivenSum\u001b[0m\u001b[1;33m(\u001b[0m\u001b[0mself\u001b[0m\u001b[1;33m,\u001b[0m \u001b[0mtarget\u001b[0m \u001b[1;33m:\u001b[0m \u001b[0mint\u001b[0m\u001b[1;33m,\u001b[0m \u001b[0mhead\u001b[0m \u001b[1;33m:\u001b[0m \u001b[0mOptional\u001b[0m\u001b[1;33m[\u001b[0m\u001b[1;34m'Node'\u001b[0m\u001b[1;33m]\u001b[0m\u001b[1;33m)\u001b[0m \u001b[1;33m->\u001b[0m \u001b[0mList\u001b[0m\u001b[1;33m[\u001b[0m\u001b[0mList\u001b[0m\u001b[1;33m[\u001b[0m\u001b[0mint\u001b[0m\u001b[1;33m]\u001b[0m\u001b[1;33m]\u001b[0m\u001b[1;33m:\u001b[0m\u001b[1;33m\u001b[0m\u001b[1;33m\u001b[0m\u001b[0m\n\u001b[0m\u001b[0;32m      7\u001b[0m         \u001b[0mtail\u001b[0m \u001b[1;33m=\u001b[0m \u001b[0mhead\u001b[0m\u001b[1;33m\u001b[0m\u001b[1;33m\u001b[0m\u001b[0m\n\u001b[0;32m      8\u001b[0m         \u001b[1;32mwhile\u001b[0m \u001b[0mtail\u001b[0m\u001b[1;33m.\u001b[0m\u001b[0mnext\u001b[0m\u001b[1;33m:\u001b[0m\u001b[1;33m\u001b[0m\u001b[1;33m\u001b[0m\u001b[0m\n",
      "\u001b[1;31mNameError\u001b[0m: name 'Optional' is not defined"
     ]
    }
   ],
   "source": [
    "class Node:\n",
    "    def __init__(self, val): \n",
    "        self.val = val\n",
    "        self.next = next\n",
    "class Solution:\n",
    "    def findPairsWithGivenSum(self, target : int, head : Optional['Node']) -> List[List[int]]:\n",
    "        tail = head\n",
    "        while tail.next:\n",
    "            tail = tail.next\n",
    "        left = head\n",
    "        right = tail\n",
    "        li = []\n",
    "        while left.data < right.data:\n",
    "            if left.data + right.data == target:\n",
    "                li.append([left.data,right.data])\n",
    "                left = left.next\n",
    "                right = right.prev\n",
    "            elif left.data + right.data < target:\n",
    "                left = left.next\n",
    "            else:\n",
    "                right = right.prev\n",
    "        return li"
   ]
  },
  {
   "cell_type": "code",
   "execution_count": null,
   "metadata": {},
   "outputs": [],
   "source": [
    "# Given head, the head of a linked list, determine if the linked list has a cycle in it.\n",
    "class Solution(object):\n",
    "    def hasCycle(self, head):\n",
    "        \"\"\"\n",
    "        :type head: ListNode\n",
    "        :rtype: bool\n",
    "        \"\"\"\n",
    "        fast = head\n",
    "        slow = head\n",
    "        while fast and fast.next:\n",
    "            fast = fast.next.next\n",
    "            slow = slow.next\n",
    "\n",
    "            if fast == slow:\n",
    "                return True\n",
    "            \n",
    "        return False"
   ]
  },
  {
   "cell_type": "code",
   "execution_count": null,
   "metadata": {},
   "outputs": [],
   "source": [
    "# RotateLL - Leetcode \n",
    "\n",
    "# Definition for singly-linked list.\n",
    "# class ListNode:\n",
    "#     def __init__(self, x):\n",
    "#         self.val = x\n",
    "#         self.next = None\n",
    "\n",
    "class Solution:\n",
    "    def rotateRight(self, head: ListNode, k: int) -> ListNode:\n",
    "        \n",
    "        if not head:\n",
    "            return None\n",
    "        \n",
    "        lastElement = head\n",
    "        length = 1\n",
    "        while ( lastElement.next ):\n",
    "            lastElement = lastElement.next\n",
    "            length += 1\n",
    "\n",
    "        # If k is equal to the length of the list then k == 0\n",
    "        # ElIf k is greater than the length of the list then k = k % length\n",
    "        k = k % length\n",
    "            \n",
    "        # Set the last node to point to head node\n",
    "        # The list is now a circular linked list with last node pointing to first node\n",
    "        lastElement.next = head\n",
    "        \n",
    "        # Traverse the list to get to the node just before the ( length - k )th node.\n",
    "        # Example: In 1->2->3->4->5, and k = 2\n",
    "        #          we need to get to the Node(3)\n",
    "        tempNode = head\n",
    "        for _ in range( length - k - 1 ):\n",
    "            tempNode = tempNode.next\n",
    "        \n",
    "        # Get the next node from the tempNode and then set the tempNode.next as None\n",
    "        # Example: In 1->2->3->4->5, and k = 2\n",
    "        #          tempNode = Node(3)\n",
    "        #          answer = Node(3).next => Node(4)\n",
    "        #          Node(3).next = None ( cut the linked list from here )\n",
    "        answer = tempNode.next\n",
    "        tempNode.next = None\n",
    "        \n",
    "        return answer\n"
   ]
  }
 ],
 "metadata": {
  "kernelspec": {
   "display_name": "Python 3",
   "language": "python",
   "name": "python3"
  },
  "language_info": {
   "codemirror_mode": {
    "name": "ipython",
    "version": 3
   },
   "file_extension": ".py",
   "mimetype": "text/x-python",
   "name": "python",
   "nbconvert_exporter": "python",
   "pygments_lexer": "ipython3",
   "version": "3.8.10"
  }
 },
 "nbformat": 4,
 "nbformat_minor": 2
}

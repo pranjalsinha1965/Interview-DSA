{
 "cells": [
  {
   "cell_type": "markdown",
   "metadata": {},
   "source": [
    "Linked-List"
   ]
  },
  {
   "cell_type": "code",
   "execution_count": 28,
   "metadata": {},
   "outputs": [
    {
     "name": "stdout",
     "output_type": "stream",
     "text": [
      "13\n",
      "14\n",
      "14\n",
      "<__main__.Node object at 0x00000151062A5A90>\n",
      "<__main__.Node object at 0x00000151062A5A00>\n",
      "<__main__.Node object at 0x00000151062A5A00>\n"
     ]
    }
   ],
   "source": [
    "class Node:\n",
    "    def __init__(self, data):\n",
    "        self.data = data \n",
    "        self.next = None \n",
    "a = Node(13)\n",
    "b = Node(14)\n",
    "a.next = b\n",
    "print(a.data)\n",
    "print(b.data)\n",
    "print(a.next.data)\n",
    "print(a)\n",
    "print(a.next)\n",
    "print(b)"
   ]
  },
  {
   "cell_type": "code",
   "execution_count": 29,
   "metadata": {},
   "outputs": [
    {
     "name": "stdout",
     "output_type": "stream",
     "text": [
      "2 -> None\n"
     ]
    }
   ],
   "source": [
    "class Node:\n",
    "    def __init__(self, data):\n",
    "        self.data = data\n",
    "        self.next = None\n",
    "\n",
    "def takeInput():\n",
    "    inputList = [int(ele) for ele in input().split()]\n",
    "    head = None\n",
    "    tail = None\n",
    "    \n",
    "    for currData in inputList:\n",
    "        if currData == -1:\n",
    "            break\n",
    "\n",
    "        newNode = Node(currData)\n",
    "\n",
    "        if head is None:  # First node case\n",
    "            head = newNode\n",
    "            tail = newNode\n",
    "        else:\n",
    "            tail.next = newNode  # Link the new node\n",
    "            tail = newNode  # Move the tail to the new node\n",
    "\n",
    "    return head\n",
    "\n",
    "def printList(head):\n",
    "    temp = head\n",
    "    while temp is not None:\n",
    "        print(temp.data, end=\" -> \")\n",
    "        temp = temp.next\n",
    "    print(\"None\")\n",
    "\n",
    "# Example usage\n",
    "head = takeInput()\n",
    "printList(head)"
   ]
  },
  {
   "cell_type": "code",
   "execution_count": 30,
   "metadata": {},
   "outputs": [
    {
     "name": "stdout",
     "output_type": "stream",
     "text": [
      "13\n",
      "15\n",
      "15\n",
      "<__main__.Node object at 0x00000151062A5D60>\n",
      "<__main__.Node object at 0x00000151062A52B0>\n"
     ]
    }
   ],
   "source": [
    "class Node:\n",
    "    def __init__(self, data):\n",
    "        self.data = data\n",
    "        self.next = None\n",
    "\n",
    "a = Node(13)\n",
    "b = Node(15)  # This is the correct way to initialize a new Node object\n",
    "a.next = b\n",
    "\n",
    "print(a.data)          # Output: 13\n",
    "print(b.data)          # Output: 15\n",
    "print(a.next.data)     # Output: 15 (a.next points to b, so a.next.data is 15)\n",
    "print(a)               # Will print the memory address of the 'a' object\n",
    "print(b)               # Will print the memory address of the 'b' object\n",
    "\n"
   ]
  },
  {
   "cell_type": "code",
   "execution_count": 31,
   "metadata": {},
   "outputs": [
    {
     "name": "stdout",
     "output_type": "stream",
     "text": [
      "3 -> None\n"
     ]
    }
   ],
   "source": [
    "class Node:\n",
    "    def __init__(self, data):\n",
    "        self.data = data\n",
    "        self.next = None\n",
    "\n",
    "def takeInput():\n",
    "    inputList = [int(ele) for ele in input().split()]\n",
    "    head = None\n",
    "    tail = None  # To keep track of the last node\n",
    "    \n",
    "    for currData in inputList:\n",
    "        if currData == -1:\n",
    "            break\n",
    "        newNode = Node(currData)\n",
    "        if head is None:  # If it's the first node\n",
    "            head = newNode\n",
    "            tail = newNode\n",
    "        else:\n",
    "            tail.next = newNode  # Link the new node to the last node\n",
    "            tail = newNode  # Move the tail pointer to the new node\n",
    "    \n",
    "    return head  # Return the head of the linked list\n",
    "\n",
    "def printList(head):\n",
    "    temp = head\n",
    "    while temp is not None:\n",
    "        print(temp.data, end=\" -> \")\n",
    "        temp = temp.next\n",
    "    print(\"None\")\n",
    "\n",
    "# Example usage\n",
    "head = takeInput()\n",
    "printList(head)\n"
   ]
  },
  {
   "cell_type": "code",
   "execution_count": 32,
   "metadata": {},
   "outputs": [],
   "source": [
    "class Node:\n",
    "    def __init__(self, Node):\n",
    "        self.data = Node \n",
    "        self.next = None \n",
    "\n",
    "def takeInput():\n",
    "\n",
    "    inputList = [int(ele) for ele in input().split()]\n",
    "\n",
    "head = takeInput()"
   ]
  }
 ],
 "metadata": {
  "kernelspec": {
   "display_name": "Python 3",
   "language": "python",
   "name": "python3"
  },
  "language_info": {
   "codemirror_mode": {
    "name": "ipython",
    "version": 3
   },
   "file_extension": ".py",
   "mimetype": "text/x-python",
   "name": "python",
   "nbconvert_exporter": "python",
   "pygments_lexer": "ipython3",
   "version": "3.8.10"
  }
 },
 "nbformat": 4,
 "nbformat_minor": 2
}

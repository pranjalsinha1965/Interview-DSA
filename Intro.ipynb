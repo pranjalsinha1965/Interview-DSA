{
 "cells": [
  {
   "cell_type": "markdown",
   "metadata": {},
   "source": [
    "Linked-List"
   ]
  },
  {
   "cell_type": "code",
   "execution_count": 3,
   "metadata": {},
   "outputs": [
    {
     "name": "stdout",
     "output_type": "stream",
     "text": [
      "13\n",
      "15\n",
      "15\n",
      "<__main__.Node object at 0x00000188A93D8E20>\n",
      "<__main__.Node object at 0x00000188A93D8820>\n"
     ]
    }
   ],
   "source": [
    "class Node:\n",
    "    def __init__(self, data):\n",
    "        self.data = data\n",
    "        self.next = None\n",
    "\n",
    "a = Node(13)\n",
    "b = Node(15)  # This is the correct way to initialize a new Node object\n",
    "a.next = b\n",
    "\n",
    "print(a.data)          # Output: 13\n",
    "print(b.data)          # Output: 15\n",
    "print(a.next.data)     # Output: 15 (a.next points to b, so a.next.data is 15)\n",
    "print(a)               # Will print the memory address of the 'a' object\n",
    "print(b)               # Will print the memory address of the 'b' object"
   ]
  },
  {
   "cell_type": "code",
   "execution_count": 4,
   "metadata": {},
   "outputs": [
    {
     "name": "stdout",
     "output_type": "stream",
     "text": [
      "None\n"
     ]
    }
   ],
   "source": [
    "class Node:\n",
    "    def __init__(self, data):\n",
    "        self.data = data\n",
    "        self.next = None\n",
    "\n",
    "def takeInput():\n",
    "    inputList = [int(ele) for ele in input().split()]\n",
    "    head = None\n",
    "    tail = None  # To keep track of the last node\n",
    "    \n",
    "    for currData in inputList:\n",
    "        if currData == -1:\n",
    "            break\n",
    "        newNode = Node(currData)\n",
    "        if head is None:  # If it's the first node\n",
    "            head = newNode\n",
    "            tail = newNode\n",
    "        else:\n",
    "            tail.next = newNode  # Link the new node to the last node\n",
    "            tail = newNode  # Move the tail pointer to the new node\n",
    "    \n",
    "    return head  # Return the head of the linked list\n",
    "\n",
    "def printList(head):\n",
    "    temp = head\n",
    "    while temp is not None:\n",
    "        print(temp.data, end=\" -> \")\n",
    "        temp = temp.next\n",
    "    print(\"None\")\n",
    "\n",
    "# Example usage\n",
    "head = takeInput()\n",
    "printList(head)\n"
   ]
  },
  {
   "cell_type": "code",
   "execution_count": 5,
   "metadata": {},
   "outputs": [],
   "source": [
    "class Node:\n",
    "    def __init__(self, Node):\n",
    "        self.data = Node \n",
    "        self.next = None \n",
    "\n",
    "def takeInput():\n",
    "\n",
    "    inputList = [int(ele) for ele in input().split()]\n",
    "\n",
    "head = takeInput()"
   ]
  },
  {
   "cell_type": "markdown",
   "metadata": {},
   "source": [
    "Array to LinkedList"
   ]
  },
  {
   "cell_type": "code",
   "execution_count": null,
   "metadata": {},
   "outputs": [],
   "source": [
    "# static Node constructLL(int arr[]){\n",
    "#     Node head = new Node(-1);\n",
    "#     Node temp = head;\n",
    "#     for(var i: arr)\n",
    "#     {\n",
    "#         Node x = new Node(i);\n",
    "#         temp.next = x;\n",
    "#         temp = x;\n",
    "\n",
    "#     }\n",
    "#     head = head.next; \n",
    "#     return head;\n",
    "# }\n",
    "\n",
    "# Very Easy Java Code "
   ]
  },
  {
   "cell_type": "code",
   "execution_count": 6,
   "metadata": {},
   "outputs": [],
   "source": [
    "def getCount(self, head): \n",
    "    sum = 0\n",
    "    while head != None: \n",
    "        sum += 1\n",
    "        head = head.next \n",
    "    return sum"
   ]
  },
  {
   "cell_type": "code",
   "execution_count": 7,
   "metadata": {},
   "outputs": [],
   "source": [
    "class Solution: \n",
    "    def constructLL(self, arr):\n",
    "        head = Node(arr[0])\n",
    "        temp = head \n",
    "        for i in range(1, len(arr)):\n",
    "            temp2 = Node(arr[i])\n",
    "            temp.next = temp2 \n",
    "            temp = temp.next\n",
    "        return head \n",
    "\n",
    "        "
   ]
  },
  {
   "cell_type": "code",
   "execution_count": null,
   "metadata": {},
   "outputs": [],
   "source": [
    "class Solution:\n",
    "    def search(self, n, head, key):\n",
    "        while head is not None: \n",
    "            if head is not None: \n",
    "                if head.data == key: \n",
    "                    return True \n",
    "                head = head.next \n",
    "        return False "
   ]
  },
  {
   "cell_type": "code",
   "execution_count": null,
   "metadata": {},
   "outputs": [],
   "source": [
    "class Solution: \n",
    "    def constructDLL(self, arr): \n",
    "        head = Node(arr[0])\n",
    "        head.prev = None \n",
    "        nn = head \n",
    "        for i in range(1, len(arr)): \n",
    "            nn.next = Node(arr[i])\n",
    "            nn.next.prev = nn\n",
    "        return head "
   ]
  },
  {
   "cell_type": "code",
   "execution_count": 9,
   "metadata": {},
   "outputs": [],
   "source": [
    "class Solution: \n",
    "    def reverseDLL(self, head): \n",
    "        if head is None or head.next is None:\n",
    "            return head \n",
    "        last = None \n",
    "        current = head \n",
    "        while current is not None: \n",
    "            last = current.prev \n",
    "            current.prev = current.next \n",
    "            current.next = last \n",
    "            current = current.prev \n",
    "        return last.prev "
   ]
  },
  {
   "cell_type": "code",
   "execution_count": 10,
   "metadata": {},
   "outputs": [],
   "source": [
    "class Solution: \n",
    "    def deleteAllOccurOfX(self, head, x):\n",
    "        h = head \n",
    "        c = h \n",
    "        while c: \n",
    "            if c.data == x: \n",
    "                p = c.prev \n",
    "                n = c.next \n",
    "                if p: \n",
    "                    p.next = n\n",
    "                if n: \n",
    "                    n.prev = p\n",
    "                if c == h: \n",
    "                    h = n \n",
    "                c.next = None \n",
    "                c.prev  = None \n",
    "                c = n \n",
    "            else: \n",
    "                c = c.next \n",
    "        return h"
   ]
  },
  {
   "cell_type": "code",
   "execution_count": null,
   "metadata": {},
   "outputs": [],
   "source": [
    "class Solution:\n",
    "    def findPairsWithGivenSum(self, target : int, head : Optional['Node']) -> List[List[int]]:\n",
    "        # li = []\n",
    "        # temp = head\n",
    "        # while temp:\n",
    "        #     li.append(temp.data)\n",
    "        #     temp = temp.next\n",
    "        # temp1 = head\n",
    "        # re = []\n",
    "        # # print(li)\n",
    "        # ini = target - head.data\n",
    "        # while(temp1 and temp1.data != ini):\n",
    "        #     if target - temp1.data in li and (target - temp1.data)!=temp1.data:\n",
    "        #         re.append([temp1.data, abs(target - temp1.data)])\n",
    "        #         li.remove(temp1.data)\n",
    "        #     temp1 = temp1.next\n",
    "        # return re\n",
    "        tail = head\n",
    "        while tail.next:\n",
    "            tail = tail.next\n",
    "        left = head\n",
    "        right = tail\n",
    "        li = []\n",
    "        while left.data < right.data:\n",
    "            if left.data + right.data == target:\n",
    "                li.append([left.data,right.data])\n",
    "                left = left.next\n",
    "                right = right.prev\n",
    "            elif left.data + right.data < target:\n",
    "                left = left.next\n",
    "            else:\n",
    "                right = right.prev\n",
    "        return li"
   ]
  }
 ],
 "metadata": {
  "kernelspec": {
   "display_name": "Python 3",
   "language": "python",
   "name": "python3"
  },
  "language_info": {
   "codemirror_mode": {
    "name": "ipython",
    "version": 3
   },
   "file_extension": ".py",
   "mimetype": "text/x-python",
   "name": "python",
   "nbconvert_exporter": "python",
   "pygments_lexer": "ipython3",
   "version": "3.8.10"
  }
 },
 "nbformat": 4,
 "nbformat_minor": 2
}
